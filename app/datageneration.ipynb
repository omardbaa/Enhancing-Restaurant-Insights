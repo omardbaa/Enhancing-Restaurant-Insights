{
    "cells": [
        {
            "cell_type": "code",
            "execution_count": 2,
            "metadata": {
                "id": "uJoJbGxWtQoV"
            },
            "outputs": [
                {
                    "name": "stdout",
                    "output_type": "stream",
                    "text": [
                        "{'id': '2c2666f2-2572-4f46-a1ee-2bdf857e5f79', 'rating': 5, 'review_text': 'Best hot pot experience.', 'review_date': '2023-12-27 10:21:47', 'user': {'id': '8bc8d617-16ce-4acc-a7bd-574156733835', 'name': 'Danielle Brown', 'email': 'washingtonomar@example.org', 'location': 'Philipville', 'preferences': 'Vegetarian', 'dob': '1962-12-26'}, 'restaurant': {'id': 'restaurant_002', 'name': 'Beijing Bites', 'location': '456 Oak Ave', 'cuisine': 'Chinese', 'operational_hours': '9 AM - 9 PM'}}\n",
                        "{'id': '6c65463a-08b2-4542-a084-3b4e5870bbf7', 'rating': 2, 'review_text': 'Hot pot was bland.', 'review_date': '2023-12-27 10:21:52', 'user': {'id': '10994fc3-2f36-4e0c-93c1-125f2cb1c7e0', 'name': 'Madeline Bishop', 'email': 'michael86@example.net', 'location': 'South Olivia', 'preferences': 'Vegetarian', 'dob': '1953-06-01'}, 'restaurant': {'id': 'restaurant_002', 'name': 'Beijing Bites', 'location': '456 Oak Ave', 'cuisine': 'Chinese', 'operational_hours': '9 AM - 9 PM'}}\n",
                        "{'id': 'e222ef4a-4251-4d05-bf1e-0197dc3e22d1', 'rating': 5, 'review_text': 'Authentic quesadillas.', 'review_date': '2023-12-27 10:21:57', 'user': {'id': '14e12a5c-c169-40f5-8f37-ce821ab079b0', 'name': 'Julia Collins', 'email': 'davidfuentes@example.com', 'location': 'Smithville', 'preferences': 'Vegan', 'dob': '2000-11-06'}, 'restaurant': {'id': 'restaurant_003', 'name': 'Carlos Mexican', 'location': 'Sreet Wallet JT', 'cuisine': 'Mexican', 'operational_hours': '9 AM - 9 PM'}}\n",
                        "{'id': 'dcddcfc2-2336-42b0-802c-c114e8326d21', 'rating': 5, 'review_text': 'Perfect burritos.', 'review_date': '2023-12-27 10:22:02', 'user': {'id': '0b62adfb-fc8b-482f-adba-cc3e675b5d2e', 'name': 'Melissa Green', 'email': 'xfitzgerald@example.org', 'location': 'New Carlosview', 'preferences': 'Desserts', 'dob': '1965-01-29'}, 'restaurant': {'id': 'restaurant_003', 'name': 'Carlos Mexican', 'location': 'Sreet Wallet JT', 'cuisine': 'Mexican', 'operational_hours': '9 AM - 9 PM'}}\n",
                        "{'id': 'de3944c6-6501-4a15-b5a6-1e8bd6293fac', 'rating': 1, 'review_text': 'Guacamole was tasteless.', 'review_date': '2023-12-27 10:22:07', 'user': {'id': '2a57f76f-e2f7-4431-96a3-edb2ffe52a54', 'name': 'Joseph Riley', 'email': 'ygutierrez@example.org', 'location': 'North Danielfurt', 'preferences': 'Vegan', 'dob': '1942-10-23'}, 'restaurant': {'id': 'restaurant_003', 'name': 'Carlos Mexican', 'location': 'Sreet Wallet JT', 'cuisine': 'Mexican', 'operational_hours': '9 AM - 9 PM'}}\n",
                        "Real-time data generation stopped.\n"
                    ]
                }
            ],
            "source": [
                "import random\n",
                "import faker\n",
                "from datetime import datetime\n",
                "import time\n",
                "import json\n",
                "import uuid\n",
                "\n",
                "fake = faker.Faker()\n",
                "\n",
                "positive_reviews = {\n",
                "    \"Italian\": [\"Loved the authentic pizza!\", \"Pasta was divine.\", \"Best tiramisu I've ever had!\", \"Incredible risotto.\", \"The gelato was out of this world.\"],\n",
                "    \"Chinese\": [\"The dim sum was exceptional!\", \"Loved the Peking duck.\", \"Best hot pot experience.\", \"Amazing dumplings!\", \"Crispy sweet and sour pork.\"],\n",
                "    \"Mexican\": [\"Fantastic tacos!\", \"Delicious enchiladas.\", \"Great guacamole.\", \"Perfect burritos.\", \"Authentic quesadillas.\"],\n",
                "    \"Indian\": [\"Butter chicken was heavenly.\", \"Amazing biryani.\", \"Delicious naan bread.\", \"Tasty tandoori chicken.\", \"Incredible masala chai.\"],\n",
                "    \"Japanese\": [\"Sushi was top-notch.\", \"Great ramen, very authentic.\", \"Loved the tempura.\", \"Delicious teriyaki chicken.\", \"Best miso soup I've tasted.\"]\n",
                "}\n",
                "\n",
                "neutral_reviews = {\n",
                "    \"Italian\": [\"Pizza was okay, not great.\", \"Pasta was average.\", \"Tiramisu was alright.\", \"Risotto was mediocre.\", \"Gelato was decent.\"],\n",
                "    \"Chinese\": [\"Dim sum was just fine.\", \"Peking duck was okay.\", \"Hot pot was nothing special.\", \"Dumplings were average.\", \"Sweet and sour pork was standard.\"],\n",
                "    \"Mexican\": [\"Tacos were alright.\", \"Enchiladas were passable.\", \"Guacamole was average.\", \"Burritos were okay.\", \"Quesadillas were so-so.\"],\n",
                "    \"Indian\": [\"Butter chicken was decent.\", \"Biryani was unremarkable.\", \"Naan bread was okay.\", \"Tandoori chicken was average.\", \"Masala chai was fair.\"],\n",
                "    \"Japanese\": [\"Sushi was ordinary.\", \"Ramen was passable.\", \"Tempura was average.\", \"Teriyaki chicken was okay.\", \"Miso soup was standard.\"]\n",
                "}\n",
                "\n",
                "negative_reviews = {\n",
                "    \"Italian\": [\"Pizza was undercooked.\", \"Pasta was too salty.\", \"Tiramisu lacked flavor.\", \"Risotto was overcooked.\", \"Gelato tasted bland.\"],\n",
                "    \"Chinese\": [\"Dim sum was disappointing.\", \"Peking duck was dry.\", \"Hot pot was bland.\", \"Dumplings were greasy.\", \"Sweet and sour pork was soggy.\"],\n",
                "    \"Mexican\": [\"Tacos were too spicy.\", \"Enchiladas were dry.\", \"Guacamole was tasteless.\", \"Burritos were soggy.\", \"Quesadillas were burnt.\"],\n",
                "    \"Indian\": [\"Butter chicken was too creamy.\", \"Biryani was overcooked.\", \"Naan bread was stale.\", \"Tandoori chicken was dry.\", \"Masala chai was weak.\"],\n",
                "    \"Japanese\": [\"Sushi was not fresh.\", \"Ramen was too salty.\", \"Tempura was oily.\", \"Teriyaki chicken was burnt.\", \"Miso soup was watery.\"]\n",
                "}\n",
                "restaurants = [\n",
                "    {\"id\": \"restaurant_001\", \"name\": \"Gusto's Italian\", \"location\": \"123 Main St\", \"cuisine\": \"Italian\", \"operational_hours\": \"9 AM - 9 PM\"},\n",
                "    {\"id\": \"restaurant_002\", \"name\": \"Beijing Bites\", \"location\": \"456 Oak Ave\", \"cuisine\": \"Chinese\", \"operational_hours\": \"9 AM - 9 PM\"},\n",
                "    {\"id\": \"restaurant_003\", \"name\": \"Carlos Mexican\", \"location\": \"Sreet Wallet JT\", \"cuisine\": \"Mexican\", \"operational_hours\": \"9 AM - 9 PM\"},\n",
                "    {\"id\": \"restaurant_004\", \"name\": \"Zanda BAHABI\", \"location\": \"Eve Ball St\", \"cuisine\": \"Indian\", \"operational_hours\": \"9 AM - 9 PM\"},\n",
                "    {\"id\": \"restaurant_005\", \"name\": \"Chu Wawa\", \"location\": \"Santas Balmas\", \"cuisine\": \"Indian\", \"operational_hours\": \"9 AM - 9 PM\"}\n",
                "]\n",
                "\n",
                "def generate_user():\n",
                "    return {\n",
                "        \"id\": fake.uuid4(),\n",
                "        \"name\": fake.name(),\n",
                "        \"email\": fake.email(),\n",
                "        \"location\": fake.city(),\n",
                "        \"preferences\": random.choice([\"Vegan\", \"Seafood\", \"Spicy\", \"Desserts\", \"Vegetarian\"]),\n",
                "        \"dob\": fake.date_of_birth().strftime(\"%Y-%m-%d\")\n",
                "    }\n",
                "\n",
                "\n",
                "def generate_unique_id():\n",
                "    return str(uuid.uuid4())\n",
                "\n",
                "\n",
                "def generate_review(user_id, restaurant):\n",
                "    rating = random.randint(1, 5)\n",
                "    cuisine = restaurant[\"cuisine\"]\n",
                "\n",
                "    review_id = generate_unique_id()  # Generate a review ID\n",
                "\n",
                "    if rating >= 4:\n",
                "        review_text = random.choice(positive_reviews[cuisine])\n",
                "    elif rating == 3:\n",
                "        review_text = random.choice(neutral_reviews[cuisine])\n",
                "    else:\n",
                "        review_text = random.choice(negative_reviews[cuisine])\n",
                "\n",
                "    review_data = {\n",
                "        \"id\": review_id,  # Set the review ID as the primary ID for the document\n",
                "        \"rating\": rating,\n",
                "        \"review_text\": review_text,\n",
                "        \"review_date\": datetime.now().strftime(\"%Y-%m-%d %H:%M:%S\"),\n",
                "        \"user\": generate_user(),\n",
                "        \"restaurant\": restaurant\n",
                "    }\n",
                "\n",
                "    return review_data\n",
                "\n",
                "try:\n",
                "    while True:\n",
                "        user = generate_user()\n",
                "        restaurant = random.choice(restaurants)\n",
                "        review_data = generate_review(user[\"id\"], restaurant)\n",
                "        print(review_data)\n",
                "        \n",
                "        time.sleep(1)\n",
                "\n",
                "except KeyboardInterrupt:\n",
                "    print(\"Real-time data generation stopped.\")\n"
            ]
        },
        {
            "cell_type": "code",
            "execution_count": null,
            "metadata": {},
            "outputs": [],
            "source": []
        }
    ],
    "metadata": {
        "colab": {
            "provenance": []
        },
        "kernelspec": {
            "display_name": "Python 3",
            "name": "python3"
        },
        "language_info": {
            "codemirror_mode": {
                "name": "ipython",
                "version": 3
            },
            "file_extension": ".py",
            "mimetype": "text/x-python",
            "name": "python",
            "nbconvert_exporter": "python",
            "pygments_lexer": "ipython3",
            "version": "3.11.3"
        }
    },
    "nbformat": 4,
    "nbformat_minor": 0
}
